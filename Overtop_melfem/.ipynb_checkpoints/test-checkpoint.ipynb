{
 "cells": [
  {
   "cell_type": "code",
   "execution_count": 1,
   "id": "c50a9c51-3c51-4d9f-ba54-b05389a5f7e8",
   "metadata": {},
   "outputs": [],
   "source": [
    "from proteus import FemTools as ft"
   ]
  },
  {
   "cell_type": "code",
   "execution_count": null,
   "id": "d553937c-603b-40c7-b6a0-a33102559cbc",
   "metadata": {},
   "outputs": [],
   "source": []
  }
 ],
 "metadata": {
  "kernelspec": {
   "display_name": "proteus-dev",
   "language": "python",
   "name": "proteus-dev"
  },
  "language_info": {
   "codemirror_mode": {
    "name": "ipython",
    "version": 3
   },
   "file_extension": ".py",
   "mimetype": "text/x-python",
   "name": "python",
   "nbconvert_exporter": "python",
   "pygments_lexer": "ipython3",
   "version": "3.10.14"
  }
 },
 "nbformat": 4,
 "nbformat_minor": 5
}
